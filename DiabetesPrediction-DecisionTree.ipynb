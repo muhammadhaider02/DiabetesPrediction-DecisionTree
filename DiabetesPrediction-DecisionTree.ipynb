{
  "cells": [
    {
      "cell_type": "code",
      "execution_count": 1,
      "metadata": {
        "id": "9X1K8povFDBD"
      },
      "outputs": [],
      "source": [
        "import numpy as np\n",
        "import pandas as pd\n",
        "import seaborn as sns\n",
        "import matplotlib.pyplot as plt\n",
        "from sklearn.pipeline import Pipeline\n",
        "from imblearn.over_sampling import SMOTE\n",
        "from sklearn.naive_bayes import GaussianNB\n",
        "from sklearn.compose import ColumnTransformer\n",
        "from sklearn.tree import DecisionTreeClassifier\n",
        "from sklearn.preprocessing import LabelEncoder, OneHotEncoder, OrdinalEncoder, StandardScaler, MinMaxScaler\n",
        "from sklearn.model_selection import train_test_split, cross_val_score, GridSearchCV, StratifiedKFold\n",
        "from sklearn.metrics import accuracy_score, confusion_matrix, precision_score, recall_score, f1_score, roc_auc_score, roc_curve, classification_report"
      ]
    },
    {
      "cell_type": "code",
      "execution_count": 92,
      "metadata": {
        "id": "vb-KIEasElyK"
      },
      "outputs": [],
      "source": [
        "diabetes_data = pd.read_csv('Diabetes.csv')"
      ]
    },
    {
      "cell_type": "code",
      "execution_count": 93,
      "metadata": {
        "colab": {
          "base_uri": "https://localhost:8080/"
        },
        "id": "AjPA74hnFBHd",
        "outputId": "1916af04-c5ae-4748-e730-7d9015293ccc"
      },
      "outputs": [
        {
          "name": "stdout",
          "output_type": "stream",
          "text": [
            "   Pregnancies  Glucose  BloodPressure  SkinThickness  Insulin   BMI  \\\n",
            "0            6      148             72             35        0  33.6   \n",
            "1            1       85             66             29        0  26.6   \n",
            "2            8      183             64              0        0  23.3   \n",
            "3            1       89             66             23       94  28.1   \n",
            "4            0      137             40             35      168  43.1   \n",
            "\n",
            "   DiabetesPedigreeFunction  Age  Outcome  \n",
            "0                     0.627   50        1  \n",
            "1                     0.351   31        0  \n",
            "2                     0.672   32        1  \n",
            "3                     0.167   21        0  \n",
            "4                     2.288   33        1  \n"
          ]
        }
      ],
      "source": [
        "print(diabetes_data.head())"
      ]
    },
    {
      "cell_type": "code",
      "execution_count": 94,
      "metadata": {
        "colab": {
          "base_uri": "https://localhost:8080/"
        },
        "id": "4GKvIHUpFZuU",
        "outputId": "f8ee122f-72f2-4a7f-d12f-95a6f6ca89dc"
      },
      "outputs": [
        {
          "name": "stdout",
          "output_type": "stream",
          "text": [
            "\n",
            "Dataset shape: (768, 9)\n"
          ]
        }
      ],
      "source": [
        "print(\"\\nDataset shape:\", diabetes_data.shape)"
      ]
    },
    {
      "cell_type": "code",
      "execution_count": 95,
      "metadata": {
        "colab": {
          "base_uri": "https://localhost:8080/"
        },
        "id": "CBTe1bi0FcsO",
        "outputId": "41987042-0a13-4341-aee1-de948edef5a8"
      },
      "outputs": [
        {
          "name": "stdout",
          "output_type": "stream",
          "text": [
            "\n",
            "Missing values:\n",
            " Pregnancies                 0\n",
            "Glucose                     0\n",
            "BloodPressure               0\n",
            "SkinThickness               0\n",
            "Insulin                     0\n",
            "BMI                         0\n",
            "DiabetesPedigreeFunction    0\n",
            "Age                         0\n",
            "Outcome                     0\n",
            "dtype: int64\n"
          ]
        }
      ],
      "source": [
        "print(\"Missing values:\\n\", diabetes_data.isnull().sum())"
      ]
    },
    {
      "cell_type": "code",
      "execution_count": 96,
      "metadata": {
        "colab": {
          "base_uri": "https://localhost:8080/"
        },
        "id": "g-bQ3zG8FfTl",
        "outputId": "7eb14310-85e2-4884-b67f-829a19ab4a22"
      },
      "outputs": [
        {
          "name": "stdout",
          "output_type": "stream",
          "text": [
            "Training Set Shape: (691, 8)\n",
            "Testing Set Shape: (77, 8)\n"
          ]
        }
      ],
      "source": [
        "X = diabetes_data.drop('Outcome', axis=1)\n",
        "y = diabetes_data['Outcome']\n",
        "\n",
        "X_train, X_test, y_train, y_test = train_test_split(X, y, test_size=0.10, random_state=42, stratify=y)\n",
        "\n",
        "print(\"Training Set Shape:\", X_train.shape)\n",
        "print(\"Testing Set Shape:\", X_test.shape)"
      ]
    },
    {
      "cell_type": "markdown",
      "metadata": {
        "id": "zkceozydYLUw"
      },
      "source": [
        "**Simple Decision Tree**"
      ]
    },
    {
      "cell_type": "code",
      "execution_count": 97,
      "metadata": {
        "colab": {
          "base_uri": "https://localhost:8080/"
        },
        "id": "FHaXdhBwFqsB",
        "outputId": "fbdd53b9-7df8-4f81-b7f4-5005076b5701"
      },
      "outputs": [
        {
          "name": "stdout",
          "output_type": "stream",
          "text": [
            "\n",
            "Results for Basic Decision Tree:\n",
            "Accuracy      : 0.740\n",
            "Precision     : 0.640\n",
            "Recall        : 0.593\n",
            "F1-Score      : 0.615\n",
            "\n",
            "Detailed Report:\n",
            "\n",
            "              precision    recall  f1-score   support\n",
            "\n",
            "           0      0.788     0.820     0.804        50\n",
            "           1      0.640     0.593     0.615        27\n",
            "\n",
            "    accuracy                          0.740        77\n",
            "   macro avg      0.714     0.706     0.710        77\n",
            "weighted avg      0.736     0.740     0.738        77\n",
            "\n"
          ]
        }
      ],
      "source": [
        "tree_default = DecisionTreeClassifier(random_state=42)\n",
        "tree_default.fit(X_train, y_train)\n",
        "\n",
        "basic_preds = tree_default.predict(X_test)\n",
        "\n",
        "def display_metrics(y_true, y_pred, model_title):\n",
        "    print(f\"\\nResults for {model_title}:\")\n",
        "    print(f\"Accuracy      : {accuracy_score(y_true, y_pred):.3f}\")\n",
        "    print(f\"Precision     : {precision_score(y_true, y_pred):.3f}\")\n",
        "    print(f\"Recall        : {recall_score(y_true, y_pred):.3f}\")\n",
        "    print(f\"F1-Score      : {f1_score(y_true, y_pred):.3f}\")\n",
        "    print(\"\\nDetailed Report:\\n\")\n",
        "    print(classification_report(y_true, y_pred, digits=3))\n",
        "\n",
        "display_metrics(y_test, basic_preds, \"Basic Decision Tree\")"
      ]
    },
    {
      "cell_type": "markdown",
      "metadata": {
        "id": "c-N12g6TYPlS"
      },
      "source": [
        "**Hyperparameter Tuning**"
      ]
    },
    {
      "cell_type": "code",
      "execution_count": 98,
      "metadata": {
        "colab": {
          "base_uri": "https://localhost:8080/"
        },
        "id": "y7l_p6ogWv7J",
        "outputId": "45f1b081-7a67-4f94-cd48-22272512be13"
      },
      "outputs": [
        {
          "name": "stdout",
          "output_type": "stream",
          "text": [
            "\n",
            "Best Hyperparameters Found:\n",
            "{'max_depth': 5, 'min_samples_leaf': 4, 'min_samples_split': 2}\n",
            "\n",
            "Results for Optimized Decision Tree:\n",
            "Accuracy      : 0.779\n",
            "Precision     : 0.708\n",
            "Recall        : 0.630\n",
            "F1-Score      : 0.667\n",
            "\n",
            "Detailed Report:\n",
            "\n",
            "              precision    recall  f1-score   support\n",
            "\n",
            "           0      0.811     0.860     0.835        50\n",
            "           1      0.708     0.630     0.667        27\n",
            "\n",
            "    accuracy                          0.779        77\n",
            "   macro avg      0.760     0.745     0.751        77\n",
            "weighted avg      0.775     0.779     0.776        77\n",
            "\n"
          ]
        }
      ],
      "source": [
        "def tune_decision_tree(X, y):\n",
        "    param_options = {\n",
        "        'max_depth': [3, 5, 7, 9, None],\n",
        "        'min_samples_split': [2, 5, 10],\n",
        "        'min_samples_leaf': [1, 2, 4]\n",
        "    }\n",
        "\n",
        "    search = GridSearchCV(\n",
        "        DecisionTreeClassifier(random_state=42),\n",
        "        param_grid=param_options,\n",
        "        cv=5,\n",
        "        scoring='accuracy',\n",
        "        n_jobs=-1\n",
        "    )\n",
        "\n",
        "    search.fit(X, y)\n",
        "    return search\n",
        "\n",
        "grid_result = tune_decision_tree(X_train, y_train)\n",
        "\n",
        "print(\"\\nBest Hyperparameters Found:\")\n",
        "print(grid_result.best_params_)\n",
        "\n",
        "optimized_tree = grid_result.best_estimator_\n",
        "optimized_tree.fit(X_train, y_train)\n",
        "\n",
        "optimized_preds = optimized_tree.predict(X_test)\n",
        "\n",
        "display_metrics(y_test, optimized_preds, \"Optimized Decision Tree\")"
      ]
    }
  ],
  "metadata": {
    "colab": {
      "provenance": []
    },
    "kernelspec": {
      "display_name": "Python 3",
      "name": "python3"
    },
    "language_info": {
      "name": "python"
    }
  },
  "nbformat": 4,
  "nbformat_minor": 0
}
